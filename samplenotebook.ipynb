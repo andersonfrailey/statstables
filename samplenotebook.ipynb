{
 "cells": [
  {
   "cell_type": "code",
   "execution_count": 1,
   "metadata": {
    "tags": []
   },
   "outputs": [],
   "source": [
    "import pandas as pd\n",
    "import numpy as np\n",
    "import statstables as st\n",
    "from statstables import tables\n",
    "from pathlib import Path"
   ]
  },
  {
   "cell_type": "code",
   "execution_count": 2,
   "metadata": {
    "tags": []
   },
   "outputs": [],
   "source": [
    "np.random.seed(5410)"
   ]
  },
  {
   "cell_type": "code",
   "execution_count": 3,
   "metadata": {
    "tags": []
   },
   "outputs": [
    {
     "data": {
      "text/html": [
       "<div>\n",
       "<style scoped>\n",
       "    .dataframe tbody tr th:only-of-type {\n",
       "        vertical-align: middle;\n",
       "    }\n",
       "\n",
       "    .dataframe tbody tr th {\n",
       "        vertical-align: top;\n",
       "    }\n",
       "\n",
       "    .dataframe thead th {\n",
       "        text-align: right;\n",
       "    }\n",
       "</style>\n",
       "<table border=\"1\" class=\"dataframe\">\n",
       "  <thead>\n",
       "    <tr style=\"text-align: right;\">\n",
       "      <th></th>\n",
       "      <th>A</th>\n",
       "      <th>B</th>\n",
       "      <th>C</th>\n",
       "      <th>group</th>\n",
       "    </tr>\n",
       "  </thead>\n",
       "  <tbody>\n",
       "    <tr>\n",
       "      <th>0</th>\n",
       "      <td>-1.326375</td>\n",
       "      <td>1.551708</td>\n",
       "      <td>-0.677944</td>\n",
       "      <td>X</td>\n",
       "    </tr>\n",
       "    <tr>\n",
       "      <th>1</th>\n",
       "      <td>-0.485501</td>\n",
       "      <td>-1.675228</td>\n",
       "      <td>0.702936</td>\n",
       "      <td>X</td>\n",
       "    </tr>\n",
       "    <tr>\n",
       "      <th>2</th>\n",
       "      <td>0.158544</td>\n",
       "      <td>-2.037403</td>\n",
       "      <td>-0.658890</td>\n",
       "      <td>X</td>\n",
       "    </tr>\n",
       "    <tr>\n",
       "      <th>3</th>\n",
       "      <td>0.614415</td>\n",
       "      <td>0.572066</td>\n",
       "      <td>-0.415246</td>\n",
       "      <td>X</td>\n",
       "    </tr>\n",
       "    <tr>\n",
       "      <th>4</th>\n",
       "      <td>-0.229457</td>\n",
       "      <td>-0.544331</td>\n",
       "      <td>0.905853</td>\n",
       "      <td>X</td>\n",
       "    </tr>\n",
       "    <tr>\n",
       "      <th>...</th>\n",
       "      <td>...</td>\n",
       "      <td>...</td>\n",
       "      <td>...</td>\n",
       "      <td>...</td>\n",
       "    </tr>\n",
       "    <tr>\n",
       "      <th>95</th>\n",
       "      <td>0.582149</td>\n",
       "      <td>0.979562</td>\n",
       "      <td>0.086892</td>\n",
       "      <td>Z</td>\n",
       "    </tr>\n",
       "    <tr>\n",
       "      <th>96</th>\n",
       "      <td>-1.242300</td>\n",
       "      <td>-2.225098</td>\n",
       "      <td>-0.403483</td>\n",
       "      <td>Z</td>\n",
       "    </tr>\n",
       "    <tr>\n",
       "      <th>97</th>\n",
       "      <td>-0.744706</td>\n",
       "      <td>1.813135</td>\n",
       "      <td>0.269821</td>\n",
       "      <td>Z</td>\n",
       "    </tr>\n",
       "    <tr>\n",
       "      <th>98</th>\n",
       "      <td>-0.417842</td>\n",
       "      <td>1.695252</td>\n",
       "      <td>0.316519</td>\n",
       "      <td>Z</td>\n",
       "    </tr>\n",
       "    <tr>\n",
       "      <th>99</th>\n",
       "      <td>0.091528</td>\n",
       "      <td>0.307550</td>\n",
       "      <td>-0.052349</td>\n",
       "      <td>Z</td>\n",
       "    </tr>\n",
       "  </tbody>\n",
       "</table>\n",
       "<p>300 rows × 4 columns</p>\n",
       "</div>"
      ],
      "text/plain": [
       "           A         B         C group\n",
       "0  -1.326375  1.551708 -0.677944     X\n",
       "1  -0.485501 -1.675228  0.702936     X\n",
       "2   0.158544 -2.037403 -0.658890     X\n",
       "3   0.614415  0.572066 -0.415246     X\n",
       "4  -0.229457 -0.544331  0.905853     X\n",
       "..       ...       ...       ...   ...\n",
       "95  0.582149  0.979562  0.086892     Z\n",
       "96 -1.242300 -2.225098 -0.403483     Z\n",
       "97 -0.744706  1.813135  0.269821     Z\n",
       "98 -0.417842  1.695252  0.316519     Z\n",
       "99  0.091528  0.307550 -0.052349     Z\n",
       "\n",
       "[300 rows x 4 columns]"
      ]
     },
     "execution_count": 3,
     "metadata": {},
     "output_type": "execute_result"
    }
   ],
   "source": [
    "df = pd.concat([\n",
    "    pd.DataFrame({\n",
    "        'A': np.random.normal(0, 1, 100),\n",
    "        'B': np.random.normal(0, 1, 100),\n",
    "        'C': np.random.normal(0, 1, 100),\n",
    "        'group': ['X'] * 100\n",
    "    }),\n",
    "    pd.DataFrame({\n",
    "        'A': np.random.normal(0, 1, 100),\n",
    "        'B': np.random.normal(5, 2, 100),\n",
    "        'C': np.random.normal(1, 1, 100),\n",
    "        'group': ['Y'] * 100\n",
    "    }),\n",
    "    pd.DataFrame({\n",
    "        'A': np.random.normal(0, 1, 100),\n",
    "        'B': np.random.normal(0, 1, 100),\n",
    "        'C': np.random.normal(1, 1, 100),\n",
    "        'group': ['Z'] * 100\n",
    "    }),\n",
    "])\n",
    "df"
   ]
  },
  {
   "cell_type": "markdown",
   "metadata": {},
   "source": [
    "## Difference in means\n",
    "\n",
    "The only table that calculates anything is the mean difference table. Give it a DataFrame, tell it which variables you're interested in, and it'll give you this."
   ]
  },
  {
   "cell_type": "code",
   "execution_count": 4,
   "metadata": {
    "tags": []
   },
   "outputs": [
    {
     "name": "stdout",
     "output_type": "stream",
     "text": [
      "Note: Standard errors assume samples are drawn independently.\n"
     ]
    },
    {
     "data": {
      "text/html": [
       "<table>\n",
       "  <thead>\n",
       "    <tr>\n",
       "      <th></th>\n",
       "      <th colspan=\"3\" style=\"text-align:center;\"><u>Means</u></th> <th colspan=\"1\" style=\"text-align:center;\"><u></u></th> <th colspan=\"3\" style=\"text-align:center;\"><u>Differences</u></th>\n",
       "    </tr>\n",
       "    <tr>\n",
       "      <th></th>\n",
       "      <th style=\"text-align:center;\">X</th>\n",
       "      <th style=\"text-align:center;\">Y</th>\n",
       "      <th style=\"text-align:center;\">Z</th>\n",
       "      <th style=\"text-align:center;\">Overall Mean</th>\n",
       "      <th style=\"text-align:center;\">X - Y</th>\n",
       "      <th style=\"text-align:center;\">X - Z</th>\n",
       "      <th style=\"text-align:center;\">Y - Z</th>\n",
       "    </tr>\n",
       "    <tr>\n",
       "      <th></th>\n",
       "      <th>N=100</th>\n",
       "      <th>N=100</th>\n",
       "      <th>N=100</th>\n",
       "      <th>N=300</th>\n",
       "      <th></th>\n",
       "      <th></th>\n",
       "      <th></th>\n",
       "    </tr>\n",
       "  </thead>\n",
       "  <tbody>\n",
       "    <tr>\n",
       "      <td style=\"text-align:center;\">A</td>\n",
       "      <td style=\"text-align:center;\">-0.12</td>\n",
       "      <td style=\"text-align:center;\">-0.222</td>\n",
       "      <td style=\"text-align:center;\">-0.012</td>\n",
       "      <td style=\"text-align:center;\">-0.117</td>\n",
       "      <td style=\"text-align:center;\">0.107</td>\n",
       "      <td style=\"text-align:center;\">-0.103</td>\n",
       "      <td style=\"text-align:center;\">-0.210</td>\n",
       "    </tr>\n",
       "    <tr>\n",
       "      <td style=\"text-align:center;\"></td>\n",
       "      <td style=\"text-align:center;\">(0.10)</td>\n",
       "      <td style=\"text-align:center;\">(0.101)</td>\n",
       "      <td style=\"text-align:center;\">(0.102)</td>\n",
       "      <td style=\"text-align:center;\">(0.058)</td>\n",
       "      <td style=\"text-align:center;\">(0.141)</td>\n",
       "      <td style=\"text-align:center;\">(0.142)</td>\n",
       "      <td style=\"text-align:center;\">(0.143)</td>\n",
       "    </tr>\n",
       "    <tr>\n",
       "      <td style=\"text-align:center;\">B</td>\n",
       "      <td style=\"text-align:center;\">0.108</td>\n",
       "      <td style=\"text-align:center;\">5.042</td>\n",
       "      <td style=\"text-align:center;\">-0.074</td>\n",
       "      <td style=\"text-align:center;\">1.692</td>\n",
       "      <td style=\"text-align:center;\">-4.934***</td>\n",
       "      <td style=\"text-align:center;\">0.181</td>\n",
       "      <td style=\"text-align:center;\">5.115***</td>\n",
       "    </tr>\n",
       "    <tr>\n",
       "      <td style=\"text-align:center;\"></td>\n",
       "      <td style=\"text-align:center;\">(0.102)</td>\n",
       "      <td style=\"text-align:center;\">(0.196)</td>\n",
       "      <td style=\"text-align:center;\">(0.097)</td>\n",
       "      <td style=\"text-align:center;\">(0.159)</td>\n",
       "      <td style=\"text-align:center;\">(0.221)</td>\n",
       "      <td style=\"text-align:center;\">(0.141)</td>\n",
       "      <td style=\"text-align:center;\">(0.219)</td>\n",
       "    </tr>\n",
       "    <tr>\n",
       "      <td style=\"text-align:center;\">C</td>\n",
       "      <td style=\"text-align:center;\">0.062</td>\n",
       "      <td style=\"text-align:center;\">1.037</td>\n",
       "      <td style=\"text-align:center;\">0.998</td>\n",
       "      <td style=\"text-align:center;\">0.699</td>\n",
       "      <td style=\"text-align:center;\">-0.975***</td>\n",
       "      <td style=\"text-align:center;\">-0.937***</td>\n",
       "      <td style=\"text-align:center;\">0.038</td>\n",
       "    </tr>\n",
       "    <tr>\n",
       "      <td style=\"text-align:center;\"></td>\n",
       "      <td style=\"text-align:center;\">(0.082)</td>\n",
       "      <td style=\"text-align:center;\">(0.108)</td>\n",
       "      <td style=\"text-align:center;\">(0.088)</td>\n",
       "      <td style=\"text-align:center;\">(0.060)</td>\n",
       "      <td style=\"text-align:center;\">(0.135)</td>\n",
       "      <td style=\"text-align:center;\">(0.120)</td>\n",
       "      <td style=\"text-align:center;\">(0.139)</td>\n",
       "    </tr>\n",
       "    <tr><td colspan=\"8\" style=\"text-align:right;\"><i>Significance levels: * p< 0.1, ** p< 0.05, *** p< 0.01</i></td></tr>\n",
       "  </tbody>\n"
      ],
      "text/plain": [
       "=====================================================================================================================\n",
       "                          Means                                                        Differences                   \n",
       "      ----------------------------------------------  --------------  ---------------------------------------------- \n",
       "            X               Y               Z          Overall Mean       X - Y           X - Z           Y - Z      \n",
       "---------------------------------------------------------------------------------------------------------------------\n",
       "  A       -0.12           -0.222          -0.012          -0.117          0.107           -0.103          -0.210     \n",
       "          (0.10)         (0.101)         (0.102)         (0.058)         (0.141)         (0.142)         (0.143)     \n",
       "  B       0.108           5.042           -0.074          1.692         -4.934***         0.181          5.115***    \n",
       "         (0.102)         (0.196)         (0.097)         (0.159)         (0.221)         (0.141)         (0.219)     \n",
       "  C       0.062           1.037           0.998           0.699         -0.975***       -0.937***         0.038      \n",
       "         (0.082)         (0.108)         (0.088)         (0.060)         (0.135)         (0.120)         (0.139)     \n",
       "====================================================================================================================="
      ]
     },
     "execution_count": 4,
     "metadata": {},
     "output_type": "execute_result"
    }
   ],
   "source": [
    "table1 = tables.MeanDifferenceTable(\n",
    "    df=df, var_list=['A', 'B', 'C'], group_var='group',\n",
    "    diff_pairs=[('X', 'Y'), ('X', 'Z'), ('Y', 'Z')],\n",
    ")\n",
    "table1.caption = 'Differences in means'\n",
    "table1.label = 'table:differencesinmeans'\n",
    "table1.caption_location = 'top'\n",
    "table1.custom_formatters({('A', 'X'): lambda x: f'{x:.2f}'})\n",
    "table1"
   ]
  },
  {
   "cell_type": "markdown",
   "metadata": {},
   "source": [
    "To render a table in LaTeX, just use the `render_latex` method. It comes with two optional arguments: `outfile` and `only_tabular`. If `outfile` is specified, the table will be saved to that file, otherwise a string with the text is returned. If `only_tabular=True`, then the table will only be wrapped in a `tabular` LaTeX environment, not a `table`.\n",
    "\n",
    "See `sample_tex.tex`, `tables.tex`, `tabular_table.tex`, `main.tex`, and `main.pdf` to see the output."
   ]
  },
  {
   "cell_type": "code",
   "execution_count": 5,
   "metadata": {
    "tags": []
   },
   "outputs": [
    {
     "name": "stdout",
     "output_type": "stream",
     "text": [
      "Note: Standard errors assume samples are drawn independently.\n"
     ]
    }
   ],
   "source": [
    "table1.render_latex(outfile='tables.tex')"
   ]
  },
  {
   "cell_type": "markdown",
   "metadata": {},
   "source": [
    "The `SummaryTable` class does exactly what it sounds like---creates a summary table. Under the hood it's just using the `.describe()` method of a Pandas DataFrame, it's there to take advantage of the formatting and rendering options `statstables` has. The cell below shows many of the customization options you have with `statstables`."
   ]
  },
  {
   "cell_type": "code",
   "execution_count": 6,
   "metadata": {
    "tags": []
   },
   "outputs": [
    {
     "data": {
      "text/html": [
       "<table>\n",
       "  <thead>\n",
       "    <tr>\n",
       "      <th></th>\n",
       "      <th colspan=\"1\" style=\"text-align:center;\"><u>First</u></th> <th colspan=\"2\" style=\"text-align:center;\"><u>Second</u></th>\n",
       "    </tr>\n",
       "    <tr>\n",
       "      <th></th>\n",
       "      <th style=\"text-align:center;\">a</th>\n",
       "      <th style=\"text-align:center;\">B</th>\n",
       "      <th style=\"text-align:center;\">C</th>\n",
       "    </tr>\n",
       "    <tr>\n",
       "      <th>Example</th>\n",
       "      <th>Yes</th>\n",
       "      <th>No</th>\n",
       "      <th>Yes</th>\n",
       "    </tr>\n",
       "  </thead>\n",
       "  <tbody>\n",
       "    <tr>\n",
       "      <td style=\"text-align:center;\">Number of Observations</td>\n",
       "      <td style=\"text-align:center;\">300</td>\n",
       "      <td style=\"text-align:center;\">300</td>\n",
       "      <td style=\"text-align:center;\">300</td>\n",
       "    </tr>\n",
       "    <tr>\n",
       "      <td style=\"text-align:center;\">Mean</td>\n",
       "      <td style=\"text-align:center;\">-0.12</td>\n",
       "      <td style=\"text-align:center;\">1.692</td>\n",
       "      <td style=\"text-align:center;\">0.699</td>\n",
       "    </tr>\n",
       "    <tr>\n",
       "      <td style=\"text-align:center;\">Std. Dev.</td>\n",
       "      <td style=\"text-align:center;\">1.005</td>\n",
       "      <td style=\"text-align:center;\">2.751</td>\n",
       "      <td style=\"text-align:center;\">1.0332</td>\n",
       "    </tr>\n",
       "    <tr>\n",
       "      <td style=\"text-align:center;\">Min.</td>\n",
       "      <td style=\"text-align:center;\">-2.782</td>\n",
       "      <td style=\"text-align:center;\">-2.535</td>\n",
       "      <td style=\"text-align:center;\">-2.006</td>\n",
       "    </tr>\n",
       "    <tr>\n",
       "      <td style=\"text-align:center;\">25%</td>\n",
       "      <td style=\"text-align:center;\">-0.782</td>\n",
       "      <td style=\"text-align:center;\">-0.314</td>\n",
       "      <td style=\"text-align:center;\">-0.060</td>\n",
       "    </tr>\n",
       "    <tr>\n",
       "      <td style=\"text-align:center;\">50%</td>\n",
       "      <td style=\"text-align:center;\">-0.189</td>\n",
       "      <td style=\"text-align:center;\">0.701</td>\n",
       "      <td style=\"text-align:center;\">0.678</td>\n",
       "    </tr>\n",
       "    <tr>\n",
       "      <td style=\"text-align:center;\">75%</td>\n",
       "      <td style=\"text-align:center;\">0.552</td>\n",
       "      <td style=\"text-align:center;\">3.607</td>\n",
       "      <td style=\"text-align:center;\">1.354</td>\n",
       "    </tr>\n",
       "    <tr>\n",
       "      <td style=\"text-align:center;\">Max.</td>\n",
       "      <td style=\"text-align:center;\">2.99</td>\n",
       "      <td style=\"text-align:center;\">9.92</td>\n",
       "      <td style=\"text-align:center;\">3.90</td>\n",
       "    </tr>\n",
       "    <tr>\n",
       "      <th></th>\n",
       "      <th>No</th>\n",
       "      <th>Yes</th>\n",
       "      <th>No</th>\n",
       "    </tr>\n",
       "    <tr>\n",
       "    <tr>\n",
       "      <th>Lowest</th>\n",
       "      <th>Low A</th>\n",
       "      <th>Low B</th>\n",
       "      <th>Low C</th>\n",
       "    </tr>\n",
       "    </tr>\n",
       "    <tr><td colspan=\"4\" style=\"text-align:right;\"><i>The default note aligns over here.</i></td></tr>\n",
       "    <tr><td colspan=\"4\" style=\"text-align:center;\"><i>But you can move it to the middle!</i></td></tr>\n",
       "    <tr><td colspan=\"4\" style=\"text-align:left;\"><i>Or over here!</i></td></tr>\n",
       "  </tbody>\n"
      ],
      "text/plain": [
       "========================================================================================================\n",
       "                                    First                                  Second                       \n",
       "                           ------------------------  -------------------------------------------------- \n",
       "                                      a                         B                         C             \n",
       "--------------------------------------------------------------------------------------------------------\n",
       "  Number of Observations             300                       300                       300            \n",
       "           Mean                     -0.12                     1.692                     0.699           \n",
       "        Std. Dev.                   1.005                     2.751                     1.0332          \n",
       "           Min.                     -2.782                    -2.535                    -2.006          \n",
       "           25%                      -0.782                    -0.314                    -0.060          \n",
       "           50%                      -0.189                    0.701                     0.678           \n",
       "           75%                      0.552                     3.607                     1.354           \n",
       "           Max.                      2.99                      9.92                      3.90           \n",
       "--------------------------------------------------------------------------------------------------------\n",
       "                                     Yes                        No            \n",
       "========================================================================================================\n",
       "                                                                      The default note aligns over here.\n",
       "                                   But you can move it to the middle!                                   \n",
       "Or over here!                                                                                           "
      ]
     },
     "execution_count": 6,
     "metadata": {},
     "output_type": "execute_result"
    }
   ],
   "source": [
    "table2 = tables.SummaryTable(df=df, var_list=['A', 'B', 'C'])\n",
    "# You can provide a custom formatter for each column, row, or, by specifying a\n",
    "# specific cell by maknig the key a tuple with (index name, column name).\n",
    "table2.custom_formatters({\n",
    "    'count': lambda x: f\"{x:,.0f}\",\n",
    "    'max': lambda x: f\"{x:,.2f}\",\n",
    "    ('mean', 'A'): lambda x: f\"{x:,.2f}\",\n",
    "    ('std', 'C'): lambda x: f\"{x:,.4f}\",\n",
    "})\n",
    "# rename index and column labels\n",
    "table2.rename_index({'count': 'Number of Observations'})\n",
    "table2.rename_columns({'A': 'a'})\n",
    "# add labels that span multiple columns\n",
    "table2.add_multicolumns(['First', 'Second'], [1, 2])\n",
    "# add some lines all over the place.\n",
    "table2.add_line(['Yes', 'No', 'Yes'], location='after-columns', label='Example')\n",
    "# add a line with no index label\n",
    "table2.add_line(['No', 'Yes', 'No'], location='after-body')\n",
    "table2.add_line(['Low A', 'Low B', 'Low C'], location='after-footer', label='Lowest')\n",
    "# add notes beneath the table\n",
    "table2.add_note('The default note aligns over here.')\n",
    "table2.add_note('But you can move it to the middle!', alignment='c')\n",
    "table2.add_note('Or over here!', alignment='l')\n",
    "table2.caption = 'Summary Table'\n",
    "table2.label = 'table:summarytable'\n",
    "\n",
    "table2"
   ]
  },
  {
   "cell_type": "code",
   "execution_count": 7,
   "metadata": {
    "tags": []
   },
   "outputs": [],
   "source": [
    "table2_tex = table2.render_latex()\n",
    "with Path('tables.tex').open('a') as f:\n",
    "    f.write(table2_tex)"
   ]
  },
  {
   "cell_type": "markdown",
   "metadata": {},
   "source": [
    "Because you'll almost certainly want to make tables specific to your work, there's the `GenericTable` class that you can pass a DataFrame to and get access to all the customization tools available."
   ]
  },
  {
   "cell_type": "code",
   "execution_count": 8,
   "metadata": {
    "tags": []
   },
   "outputs": [
    {
     "data": {
      "text/html": [
       "<table>\n",
       "  <thead>\n",
       "  </thead>\n",
       "  <tbody>\n",
       "    <tr>\n",
       "      <td style=\"text-align:center;\">Unique Sites</td>\n",
       "      <td style=\"text-align:center;\">10,000</td>\n",
       "    </tr>\n",
       "    <tr>\n",
       "      <td style=\"text-align:center;\">Unique IPs</td>\n",
       "      <td style=\"text-align:center;\">20,000</td>\n",
       "    </tr>\n",
       "    <tr>\n",
       "      <td style=\"text-align:center;\">IPs in EU</td>\n",
       "      <td style=\"text-align:center;\">5,000</td>\n",
       "    </tr>\n",
       "    <tr>\n",
       "      <td style=\"text-align:center;\">IPs in US</td>\n",
       "      <td style=\"text-align:center;\">3,000</td>\n",
       "    </tr>\n",
       "    <tr>\n",
       "      <td style=\"text-align:center;\">IPs outside EU</td>\n",
       "      <td style=\"text-align:center;\">5,000</td>\n",
       "    </tr>\n",
       "  </tbody>\n"
      ],
      "text/plain": [
       "====================================\n",
       "   Unique Sites         10,000      \n",
       "    Unique IPs          20,000      \n",
       "    IPs in EU           5,000       \n",
       "    IPs in US           3,000       \n",
       "  IPs outside EU        5,000       \n",
       "===================================="
      ]
     },
     "execution_count": 8,
     "metadata": {},
     "output_type": "execute_result"
    }
   ],
   "source": [
    "ip_sites_summary = pd.DataFrame({\n",
    "    'a': [\n",
    "        'Unique Sites', 'Unique IPs', 'IPs in EU', 'IPs in US', 'IPs outside EU'\n",
    "    ],\n",
    "    'b': [\n",
    "        10000, 20000, 5000,\n",
    "        3000, 5000\n",
    "    ],\n",
    "})\n",
    "ip_sites_table = tables.GenericTable(ip_sites_summary)\n",
    "ip_sites_table.show_columns = False\n",
    "ip_sites_table.include_index = False\n",
    "ip_sites_table.custom_formatters({'b': lambda x: f'{x:,.0f}'})\n",
    "ip_sites_table"
   ]
  },
  {
   "cell_type": "code",
   "execution_count": 9,
   "metadata": {
    "tags": []
   },
   "outputs": [],
   "source": [
    "ip_sites_table.render_latex(only_tabular=True, outfile='tabular_table.tex')"
   ]
  },
  {
   "cell_type": "markdown",
   "metadata": {},
   "source": [
    "In addition to LateX and HTML, `statstables` can output ASCII tables. This is what you'll get if you print the table or use it in the repl."
   ]
  },
  {
   "cell_type": "code",
   "execution_count": 10,
   "metadata": {
    "tags": []
   },
   "outputs": [
    {
     "name": "stdout",
     "output_type": "stream",
     "text": [
      "====================================\n",
      "   Unique Sites         10,000      \n",
      "    Unique IPs          20,000      \n",
      "    IPs in EU           5,000       \n",
      "    IPs in US           3,000       \n",
      "  IPs outside EU        5,000       \n",
      "====================================\n"
     ]
    }
   ],
   "source": [
    "print(ip_sites_table)"
   ]
  },
  {
   "cell_type": "code",
   "execution_count": 11,
   "metadata": {
    "tags": []
   },
   "outputs": [
    {
     "name": "stdout",
     "output_type": "stream",
     "text": [
      "=====================================================================================================================\n",
      "                          Means                                                        Differences                   \n",
      "      ----------------------------------------------  --------------  ---------------------------------------------- \n",
      "            X               Y               Z          Overall Mean       X - Y           X - Z           Y - Z      \n",
      "---------------------------------------------------------------------------------------------------------------------\n",
      "  A       -0.12           -0.222          -0.012          -0.117          0.107           -0.103          -0.210     \n",
      "          (0.10)         (0.101)         (0.102)         (0.058)         (0.141)         (0.142)         (0.143)     \n",
      "  B       0.108           5.042           -0.074          1.692         -4.934***         0.181          5.115***    \n",
      "         (0.102)         (0.196)         (0.097)         (0.159)         (0.221)         (0.141)         (0.219)     \n",
      "  C       0.062           1.037           0.998           0.699         -0.975***       -0.937***         0.038      \n",
      "         (0.082)         (0.108)         (0.088)         (0.060)         (0.135)         (0.120)         (0.139)     \n",
      "=====================================================================================================================\n"
     ]
    }
   ],
   "source": [
    "print(table1)"
   ]
  },
  {
   "cell_type": "markdown",
   "metadata": {},
   "source": [
    "You can also change the characters used for each of the lines."
   ]
  },
  {
   "cell_type": "code",
   "execution_count": 12,
   "metadata": {},
   "outputs": [
    {
     "name": "stdout",
     "output_type": "stream",
     "text": [
      "-----------------------------------------------------------------------------------------------------------------------\n",
      "+                          Means                                                        Differences                   +\n",
      "+      ----------------------------------------------  --------------  ---------------------------------------------- +\n",
      "+            X               Y               Z          Overall Mean       X - Y           X - Z           Y - Z      +\n",
      "+=====================================================================================================================+\n",
      "+  A       -0.12           -0.222          -0.012          -0.117          0.107           -0.103          -0.210     +\n",
      "+          (0.10)         (0.101)         (0.102)         (0.058)         (0.141)         (0.142)         (0.143)     +\n",
      "+  B       0.108           5.042           -0.074          1.692         -4.934***         0.181          5.115***    +\n",
      "+         (0.102)         (0.196)         (0.097)         (0.159)         (0.221)         (0.141)         (0.219)     +\n",
      "+  C       0.062           1.037           0.998           0.699         -0.975***       -0.937***         0.038      +\n",
      "+         (0.082)         (0.108)         (0.088)         (0.060)         (0.135)         (0.120)         (0.139)     +\n",
      "-----------------------------------------------------------------------------------------------------------------------\n"
     ]
    }
   ],
   "source": [
    "st.STParams['ascii_header_char'] = \"-\"\n",
    "st.STParams['ascii_footer_char'] = \"-\"\n",
    "st.STParams['ascii_mid_rule_char'] = \"=\"\n",
    "st.STParams['ascii_border_char'] = \"+\"\n",
    "\n",
    "print(table1)"
   ]
  },
  {
   "cell_type": "markdown",
   "metadata": {},
   "source": [
    "Or the amount of space around each cell."
   ]
  },
  {
   "cell_type": "code",
   "execution_count": 13,
   "metadata": {},
   "outputs": [
    {
     "name": "stdout",
     "output_type": "stream",
     "text": [
      "--------------------------------------------------\n",
      "+      Unique Sites               10,000         +\n",
      "+       Unique IPs                20,000         +\n",
      "+       IPs in EU                 5,000          +\n",
      "+       IPs in US                 3,000          +\n",
      "+     IPs outside EU              5,000          +\n",
      "--------------------------------------------------\n"
     ]
    }
   ],
   "source": [
    "st.STParams['ascii_padding'] = 5\n",
    "\n",
    "print(ip_sites_table)"
   ]
  },
  {
   "cell_type": "markdown",
   "metadata": {},
   "source": [
    "And whether, when you have a column label that spans multiple columns, that label is underlined."
   ]
  },
  {
   "cell_type": "code",
   "execution_count": 14,
   "metadata": {},
   "outputs": [
    {
     "name": "stdout",
     "output_type": "stream",
     "text": [
      "--------------------------------------------------------------------------------------------------\n",
      "+                                 First                               Second                     +\n",
      "+                         ----------------------  ---------------------------------------------- +\n",
      "+                                   a                       B                       C            +\n",
      "+================================================================================================+\n",
      "+ Number of Observations           300                     300                     300           +\n",
      "+          Mean                   -0.12                   1.692                   0.699          +\n",
      "+       Std. Dev.                 1.005                   2.751                   1.0332         +\n",
      "+          Min.                   -2.782                  -2.535                  -2.006         +\n",
      "+          25%                    -0.782                  -0.314                  -0.060         +\n",
      "+          50%                    -0.189                  0.701                   0.678          +\n",
      "+          75%                    0.552                   3.607                   1.354          +\n",
      "+          Max.                    2.99                    9.92                    3.90          +\n",
      "==================================================================================================\n",
      "                                  Yes                      No           \n",
      "--------------------------------------------------------------------------------------------------\n",
      "                                                              The default note aligns over here.\n",
      "                               But you can move it to the middle!                               \n",
      "Or over here!                                                                                   \n"
     ]
    }
   ],
   "source": [
    "st.STParams[\"underline_multicolumn\"] = True\n",
    "st.STParams['ascii_padding'] = 1\n",
    "\n",
    "print(table2)"
   ]
  },
  {
   "cell_type": "markdown",
   "metadata": {},
   "source": [
    "Note that these changes will apply to all tables you print.\n",
    "\n",
    "# Modeling\n",
    "\n",
    "Finally, `statstables` has some support for creating tables from the models in the `statsmodels` and `linearmodels` packages."
   ]
  },
  {
   "cell_type": "code",
   "execution_count": 15,
   "metadata": {
    "tags": []
   },
   "outputs": [],
   "source": [
    "import statsmodels.formula.api as smf"
   ]
  },
  {
   "cell_type": "code",
   "execution_count": 16,
   "metadata": {
    "tags": []
   },
   "outputs": [],
   "source": [
    "mod1 = smf.ols('A ~ B + C -1', data=df).fit()\n",
    "mod2 = smf.ols('A ~ B + C', data=df).fit()"
   ]
  },
  {
   "cell_type": "code",
   "execution_count": 17,
   "metadata": {
    "tags": []
   },
   "outputs": [
    {
     "data": {
      "text/html": [
       "<table>\n",
       "  <thead>\n",
       "    <tr>\n",
       "      <th></th>\n",
       "      <th colspan=\"1\" style=\"text-align:center;\"><u></u></th> <th colspan=\"1\" style=\"text-align:center;\"><u>Dependent Variable: A</u></th>\n",
       "    </tr>\n",
       "    <tr>\n",
       "      <th></th>\n",
       "      <th style=\"text-align:center;\">(1)</th>\n",
       "      <th style=\"text-align:center;\">(2)</th>\n",
       "    </tr>\n",
       "  </thead>\n",
       "  <tbody>\n",
       "    <tr>\n",
       "      <td style=\"text-align:center;\">Intercept</td>\n",
       "      <td style=\"text-align:center;\"></td>\n",
       "      <td style=\"text-align:center;\">-0.072</td>\n",
       "    </tr>\n",
       "    <tr>\n",
       "      <td style=\"text-align:center;\"></td>\n",
       "      <td style=\"text-align:center;\"></td>\n",
       "      <td style=\"text-align:center;\">(0.076)</td>\n",
       "    </tr>\n",
       "    <tr>\n",
       "      <td style=\"text-align:center;\">B</td>\n",
       "      <td style=\"text-align:center;\">-0.039**</td>\n",
       "      <td style=\"text-align:center;\">-0.031</td>\n",
       "    </tr>\n",
       "    <tr>\n",
       "      <td style=\"text-align:center;\"></td>\n",
       "      <td style=\"text-align:center;\">(0.020)</td>\n",
       "      <td style=\"text-align:center;\">(0.021)</td>\n",
       "    </tr>\n",
       "    <tr>\n",
       "      <td style=\"text-align:center;\">C</td>\n",
       "      <td style=\"text-align:center;\">-0.012</td>\n",
       "      <td style=\"text-align:center;\">0.012</td>\n",
       "    </tr>\n",
       "    <tr>\n",
       "      <td style=\"text-align:center;\"></td>\n",
       "      <td style=\"text-align:center;\">(0.051)</td>\n",
       "      <td style=\"text-align:center;\">(0.057)</td>\n",
       "    </tr>\n",
       "    <tr>\n",
       "      <td colspan='100%' style='border-top: 1px solid black;'></td>\n",
       "    </tr>\n",
       "    <tr>\n",
       "      <td style=\"text-align:center;\">Observations</td>\n",
       "      <td style=\"text-align:center;\">300</td>\n",
       "      <td style=\"text-align:center;\">300</td>\n",
       "    </tr>\n",
       "    <tr>\n",
       "      <td style=\"text-align:center;\">R<sup>2</sup></td>\n",
       "      <td style=\"text-align:center;\">0.017</td>\n",
       "      <td style=\"text-align:center;\">0.007</td>\n",
       "    </tr>\n",
       "    <tr>\n",
       "      <td style=\"text-align:center;\">F Statistic</td>\n",
       "      <td style=\"text-align:center;\">2.634*</td>\n",
       "      <td style=\"text-align:center;\">1.063</td>\n",
       "    </tr>\n",
       "    <tr>\n",
       "      <td style=\"text-align:center;\">Model</td>\n",
       "      <td style=\"text-align:center;\">OLS</td>\n",
       "      <td style=\"text-align:center;\">OLS</td>\n",
       "    </tr>\n",
       "    <tr><td colspan=\"3\" style=\"text-align:right;\"><i>*p<0.1, **p<0.05, ***p<0.01</i></td></tr>\n",
       "  </tbody>\n"
      ],
      "text/plain": [
       "--------------------------------------------\n",
       "+                            Dependent Variable: A+\n",
       "+               ------------  ------------ +\n",
       "+                   (1)           (2)      +\n",
       "+==========================================+\n",
       "+  Intercept                     -0.072    +\n",
       "+                               (0.076)    +\n",
       "+      B          -0.039**       -0.031    +\n",
       "+                 (0.020)       (0.021)    +\n",
       "+      C           -0.012        0.012     +\n",
       "+                 (0.051)       (0.057)    +\n",
       "============================================\n",
       "+ Observations      300           300      +\n",
       "+      R2          0.017         0.007     +\n",
       "+ F Statistic      2.634*        1.063     +\n",
       "+    Model          OLS           OLS      +\n",
       "--------------------------------------------\n",
       "               *p<0.1, **p<0.05, ***p<0.01"
      ]
     },
     "execution_count": 17,
     "metadata": {},
     "output_type": "execute_result"
    }
   ],
   "source": [
    "mod_table = tables.ModelTable(models=[mod1, mod2])\n",
    "mod_table.show_model_nums = True\n",
    "mod_table.parameter_order(['Intercept', 'B', 'C'])\n",
    "mod_table"
   ]
  },
  {
   "cell_type": "markdown",
   "metadata": {},
   "source": [
    "Using the basic [IV example](https://bashtage.github.io/linearmodels/iv/examples/basic-examples.html) from the LinearModels library:"
   ]
  },
  {
   "cell_type": "code",
   "execution_count": 18,
   "metadata": {},
   "outputs": [
    {
     "data": {
      "text/html": [
       "<table>\n",
       "  <thead>\n",
       "    <tr>\n",
       "      <th></th>\n",
       "      <th colspan=\"1\" style=\"text-align:center;\"><u>OLS</u></th> <th colspan=\"2\" style=\"text-align:center;\"><u>2SLS</u></th>\n",
       "    </tr>\n",
       "    <tr>\n",
       "      <th></th>\n",
       "      <th colspan=\"1\" style=\"text-align:center;\"></th> <th colspan=\"1\" style=\"text-align:center;\">First Stage</th> <th colspan=\"1\" style=\"text-align:center;\">Second Stage</th>\n",
       "    </tr>\n",
       "    <tr>\n",
       "      <th></th>\n",
       "      <th style=\"text-align:center;\">(1)</th>\n",
       "      <th style=\"text-align:center;\">(2)</th>\n",
       "      <th style=\"text-align:center;\">(3)</th>\n",
       "    </tr>\n",
       "  </thead>\n",
       "  <tbody>\n",
       "    <tr>\n",
       "      <td style=\"text-align:center;\">Intercept</td>\n",
       "      <td style=\"text-align:center;\">-0.185</td>\n",
       "      <td style=\"text-align:center;\">10.237***</td>\n",
       "      <td style=\"text-align:center;\">0.441</td>\n",
       "    </tr>\n",
       "    <tr>\n",
       "      <td style=\"text-align:center;\"></td>\n",
       "      <td style=\"text-align:center;\">(0.185)</td>\n",
       "      <td style=\"text-align:center;\">(0.275)</td>\n",
       "      <td style=\"text-align:center;\">(0.445)</td>\n",
       "    </tr>\n",
       "    <tr>\n",
       "      <td style=\"text-align:center;\">Father Education</td>\n",
       "      <td style=\"text-align:center;\"></td>\n",
       "      <td style=\"text-align:center;\">0.269***</td>\n",
       "      <td style=\"text-align:center;\"></td>\n",
       "    </tr>\n",
       "    <tr>\n",
       "      <td style=\"text-align:center;\"></td>\n",
       "      <td style=\"text-align:center;\"></td>\n",
       "      <td style=\"text-align:center;\">(0.029)</td>\n",
       "      <td style=\"text-align:center;\"></td>\n",
       "    </tr>\n",
       "    <tr>\n",
       "      <td style=\"text-align:center;\">Education</td>\n",
       "      <td style=\"text-align:center;\">0.109***</td>\n",
       "      <td style=\"text-align:center;\"></td>\n",
       "      <td style=\"text-align:center;\">0.059*</td>\n",
       "    </tr>\n",
       "    <tr>\n",
       "      <td style=\"text-align:center;\"></td>\n",
       "      <td style=\"text-align:center;\">(0.014)</td>\n",
       "      <td style=\"text-align:center;\"></td>\n",
       "      <td style=\"text-align:center;\">(0.035)</td>\n",
       "    </tr>\n",
       "    <tr>\n",
       "      <td colspan='100%' style='border-top: 1px solid black;'></td>\n",
       "    </tr>\n",
       "    <tr>\n",
       "      <td style=\"text-align:center;\">Observations</td>\n",
       "      <td style=\"text-align:center;\">428</td>\n",
       "      <td style=\"text-align:center;\">428</td>\n",
       "      <td style=\"text-align:center;\">428</td>\n",
       "    </tr>\n",
       "    <tr>\n",
       "      <td style=\"text-align:center;\">R<sup>2</sup></td>\n",
       "      <td style=\"text-align:center;\">0.118</td>\n",
       "      <td style=\"text-align:center;\">0.173</td>\n",
       "      <td style=\"text-align:center;\">0.093</td>\n",
       "    </tr>\n",
       "    <tr>\n",
       "      <td style=\"text-align:center;\">F Statistic</td>\n",
       "      <td style=\"text-align:center;\">57.196***</td>\n",
       "      <td style=\"text-align:center;\">89.258***</td>\n",
       "      <td style=\"text-align:center;\">2.849*</td>\n",
       "    </tr>\n",
       "    <tr>\n",
       "      <td style=\"text-align:center;\">Model</td>\n",
       "      <td style=\"text-align:center;\">OLS</td>\n",
       "      <td style=\"text-align:center;\">OLS</td>\n",
       "      <td style=\"text-align:center;\">IV-2SLS</td>\n",
       "    </tr>\n",
       "    <tr><td colspan=\"4\" style=\"text-align:right;\"><i>*p<0.1, **p<0.05, ***p<0.01</i></td></tr>\n",
       "  </tbody>\n"
      ],
      "text/plain": [
       "--------------------------------------------------------------------------\n",
       "+                         OLS                        2SLS                +\n",
       "+                   ----------------  ---------------------------------- +\n",
       "+                                       First Stage       Second Stage   +\n",
       "+                         (1)               (2)               (3)        +\n",
       "+========================================================================+\n",
       "+    Intercept           -0.185          10.237***           0.441       +\n",
       "+                       (0.185)           (0.275)           (0.445)      +\n",
       "+ Father Education                        0.269***                       +\n",
       "+                                         (0.029)                        +\n",
       "+    Education          0.109***                             0.059*      +\n",
       "+                       (0.014)                             (0.035)      +\n",
       "==========================================================================\n",
       "+   Observations          428               428               428        +\n",
       "+        R2              0.118             0.173             0.093       +\n",
       "+   F Statistic        57.196***         89.258***           2.849*      +\n",
       "+      Model              OLS               OLS             IV-2SLS      +\n",
       "--------------------------------------------------------------------------\n",
       "                                             *p<0.1, **p<0.05, ***p<0.01"
      ]
     },
     "execution_count": 18,
     "metadata": {},
     "output_type": "execute_result"
    }
   ],
   "source": [
    "from linearmodels.datasets import mroz\n",
    "from linearmodels.iv import IV2SLS\n",
    "from statsmodels.api import add_constant\n",
    "\n",
    "data = mroz.load()\n",
    "data = data.dropna()\n",
    "data = add_constant(data, has_constant=\"add\")\n",
    "\n",
    "res_ols = IV2SLS(np.log(data.wage), data[[\"const\", \"educ\"]], None, None).fit(\n",
    "    cov_type=\"unadjusted\"\n",
    ")\n",
    "res_second = IV2SLS(np.log(data.wage), data[[\"const\"]], data.educ, data.fatheduc).fit(\n",
    "    cov_type=\"unadjusted\"\n",
    ")\n",
    "\n",
    "ivtable = tables.ModelTable(\n",
    "    models=[res_ols, res_second.first_stage.individual[\"educ\"], res_second]\n",
    ")\n",
    "ivtable.rename_covariates(\n",
    "    {\n",
    "        \"const\": \"Intercept\",\n",
    "        \"educ\": \"Education\",\n",
    "        \"fatheduc\": \"Father Education\",\n",
    "    }\n",
    ")\n",
    "ivtable.parameter_order(\n",
    "    ['const', 'fatheduc', 'educ']\n",
    ")\n",
    "ivtable.add_multicolumns([\"OLS\", \"2SLS\"], [1, 2])\n",
    "ivtable.add_multicolumns([\"\", \"First Stage\", \"Second Stage\"], [1] * 3, underline=False)\n",
    "ivtable"
   ]
  },
  {
   "cell_type": "code",
   "execution_count": 19,
   "metadata": {},
   "outputs": [
    {
     "name": "stdout",
     "output_type": "stream",
     "text": [
      "--------------------------------------------------------------------------\n",
      "+                         OLS                        2SLS                +\n",
      "+                   ----------------  ---------------------------------- +\n",
      "+                                       First Stage       Second Stage   +\n",
      "+                         (1)               (2)               (3)        +\n",
      "+========================================================================+\n",
      "+    Intercept           -0.185          10.237***           0.441       +\n",
      "+                       (0.185)           (0.275)           (0.445)      +\n",
      "+ Father Education                        0.269***                       +\n",
      "+                                         (0.029)                        +\n",
      "+    Education          0.109***                             0.059*      +\n",
      "+                       (0.014)                             (0.035)      +\n",
      "==========================================================================\n",
      "+   Observations          428               428               428        +\n",
      "+        R2              0.118             0.173             0.093       +\n",
      "+   F Statistic        57.196***         89.258***           2.849*      +\n",
      "+      Model              OLS               OLS             IV-2SLS      +\n",
      "--------------------------------------------------------------------------\n",
      "                                             *p<0.1, **p<0.05, ***p<0.01\n"
     ]
    }
   ],
   "source": [
    "print(ivtable)"
   ]
  },
  {
   "cell_type": "markdown",
   "metadata": {},
   "source": [
    "If you would like to add more models that are not currently directly supported by `statstables`, you can create a custom `ModelData` class for that model. See the examples in `statstables/modeltables.py` for examples of how to make that class. Once the class has been created, add it to the `st.[SupportedModels]` dictionary by doing:\n",
    "\n",
    "```python\n",
    "import statstables as st\n",
    "from yourmodelpackage import ModelOutputClass\n",
    "\n",
    "class CustomModelClass(st.modeltables.ModelData):\n",
    "    ...\n",
    "\n",
    "st.SupportedModels[ModelOutputClass] = CustomModelClass\n",
    "```\n",
    "where `ModelOutputClass` is the type of object returned after fitting the model."
   ]
  },
  {
   "cell_type": "markdown",
   "metadata": {},
   "source": []
  }
 ],
 "metadata": {
  "kernelspec": {
   "display_name": "statstables-dev",
   "language": "python",
   "name": "python3"
  },
  "language_info": {
   "codemirror_mode": {
    "name": "ipython",
    "version": 3
   },
   "file_extension": ".py",
   "mimetype": "text/x-python",
   "name": "python",
   "nbconvert_exporter": "python",
   "pygments_lexer": "ipython3",
   "version": "3.11.8"
  }
 },
 "nbformat": 4,
 "nbformat_minor": 4
}
